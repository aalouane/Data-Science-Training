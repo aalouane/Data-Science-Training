{
 "cells": [
  {
   "cell_type": "markdown",
   "id": "5a85c77e",
   "metadata": {},
   "source": [
    "# Chapter 5 : Joining Data with pandas - Left Join\n",
    "\n",
    "Take your knowledge of joins to the next level. In this chapter, you’ll work with TMDb movie data as you learn about left, right, and outer joins. You’ll also discover how to merge a table to itself and merge on a DataFrame index. "
   ]
  },
  {
   "cell_type": "code",
   "execution_count": 7,
   "id": "a4f1f58f",
   "metadata": {},
   "outputs": [],
   "source": [
    "import pickle\n",
    "import csv\n",
    "from sklearn.utils import shuffle\n",
    "\n",
    "movies_file = \"movies.p\"\n",
    "movies_finacial_file = \"financials.p\"\n",
    "\n",
    "with open(movies_file, mode='rb') as f:\n",
    "    movies = pickle.load(f)\n",
    "    \n",
    "with open(movies_finacial_file, mode='rb') as f:\n",
    "    movies_fianancials = pickle.load(f)\n"
   ]
  },
  {
   "cell_type": "code",
   "execution_count": 8,
   "id": "e733292c",
   "metadata": {},
   "outputs": [
    {
     "data": {
      "text/html": [
       "<div>\n",
       "<style scoped>\n",
       "    .dataframe tbody tr th:only-of-type {\n",
       "        vertical-align: middle;\n",
       "    }\n",
       "\n",
       "    .dataframe tbody tr th {\n",
       "        vertical-align: top;\n",
       "    }\n",
       "\n",
       "    .dataframe thead th {\n",
       "        text-align: right;\n",
       "    }\n",
       "</style>\n",
       "<table border=\"1\" class=\"dataframe\">\n",
       "  <thead>\n",
       "    <tr style=\"text-align: right;\">\n",
       "      <th></th>\n",
       "      <th>id</th>\n",
       "      <th>title</th>\n",
       "      <th>popularity</th>\n",
       "      <th>release_date</th>\n",
       "    </tr>\n",
       "  </thead>\n",
       "  <tbody>\n",
       "    <tr>\n",
       "      <th>0</th>\n",
       "      <td>257</td>\n",
       "      <td>Oliver Twist</td>\n",
       "      <td>20.415572</td>\n",
       "      <td>2005-09-23</td>\n",
       "    </tr>\n",
       "    <tr>\n",
       "      <th>1</th>\n",
       "      <td>14290</td>\n",
       "      <td>Better Luck Tomorrow</td>\n",
       "      <td>3.877036</td>\n",
       "      <td>2002-01-12</td>\n",
       "    </tr>\n",
       "    <tr>\n",
       "      <th>2</th>\n",
       "      <td>38365</td>\n",
       "      <td>Grown Ups</td>\n",
       "      <td>38.864027</td>\n",
       "      <td>2010-06-24</td>\n",
       "    </tr>\n",
       "    <tr>\n",
       "      <th>3</th>\n",
       "      <td>9672</td>\n",
       "      <td>Infamous</td>\n",
       "      <td>3.680896</td>\n",
       "      <td>2006-11-16</td>\n",
       "    </tr>\n",
       "    <tr>\n",
       "      <th>4</th>\n",
       "      <td>12819</td>\n",
       "      <td>Alpha and Omega</td>\n",
       "      <td>12.300789</td>\n",
       "      <td>2010-09-17</td>\n",
       "    </tr>\n",
       "  </tbody>\n",
       "</table>\n",
       "</div>"
      ],
      "text/plain": [
       "      id                 title  popularity release_date\n",
       "0    257          Oliver Twist   20.415572   2005-09-23\n",
       "1  14290  Better Luck Tomorrow    3.877036   2002-01-12\n",
       "2  38365             Grown Ups   38.864027   2010-06-24\n",
       "3   9672              Infamous    3.680896   2006-11-16\n",
       "4  12819       Alpha and Omega   12.300789   2010-09-17"
      ]
     },
     "execution_count": 8,
     "metadata": {},
     "output_type": "execute_result"
    }
   ],
   "source": [
    "movies.shape\n",
    "movies.head()"
   ]
  },
  {
   "cell_type": "code",
   "execution_count": 9,
   "id": "c7bca242",
   "metadata": {},
   "outputs": [
    {
     "ename": "NameError",
     "evalue": "name 'movies_financials' is not defined",
     "output_type": "error",
     "traceback": [
      "\u001b[1;31m---------------------------------------------------------------------------\u001b[0m",
      "\u001b[1;31mNameError\u001b[0m                                 Traceback (most recent call last)",
      "Input \u001b[1;32mIn [9]\u001b[0m, in \u001b[0;36m<cell line: 1>\u001b[1;34m()\u001b[0m\n\u001b[1;32m----> 1\u001b[0m \u001b[43mmovies_financials\u001b[49m\u001b[38;5;241m.\u001b[39mshape\n\u001b[0;32m      2\u001b[0m movies_financials\u001b[38;5;241m.\u001b[39mhead()\n",
      "\u001b[1;31mNameError\u001b[0m: name 'movies_financials' is not defined"
     ]
    }
   ],
   "source": [
    "movies_financials.shape\n",
    "movies_financials.head()"
   ]
  },
  {
   "cell_type": "code",
   "execution_count": null,
   "id": "a0bd4193",
   "metadata": {},
   "outputs": [],
   "source": []
  }
 ],
 "metadata": {
  "kernelspec": {
   "display_name": "Python 3 (ipykernel)",
   "language": "python",
   "name": "python3"
  },
  "language_info": {
   "codemirror_mode": {
    "name": "ipython",
    "version": 3
   },
   "file_extension": ".py",
   "mimetype": "text/x-python",
   "name": "python",
   "nbconvert_exporter": "python",
   "pygments_lexer": "ipython3",
   "version": "3.9.12"
  }
 },
 "nbformat": 4,
 "nbformat_minor": 5
}
