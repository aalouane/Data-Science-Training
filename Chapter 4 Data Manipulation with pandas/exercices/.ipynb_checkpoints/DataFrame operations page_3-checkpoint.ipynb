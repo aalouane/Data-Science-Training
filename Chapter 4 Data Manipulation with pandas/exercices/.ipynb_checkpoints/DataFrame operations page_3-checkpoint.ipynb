{
 "cells": [
  {
   "cell_type": "code",
   "execution_count": 4,
   "id": "60b8a4e9",
   "metadata": {},
   "outputs": [
    {
     "name": "stdout",
     "output_type": "stream",
     "text": [
      "<class 'pandas.core.frame.DataFrame'>\n",
      "RangeIndex: 30 entries, 0 to 29\n",
      "Data columns (total 14 columns):\n",
      " #   Column            Non-Null Count  Dtype         \n",
      "---  ------            --------------  -----         \n",
      " 0   Order ID          30 non-null     object        \n",
      " 1   Order Date        30 non-null     datetime64[ns]\n",
      " 2   Shipping Date     30 non-null     datetime64[ns]\n",
      " 3   Aging             30 non-null     int64         \n",
      " 4   Ship Mode         30 non-null     object        \n",
      " 5   Product Category  30 non-null     object        \n",
      " 6   Product           30 non-null     object        \n",
      " 7   Sales             30 non-null     int64         \n",
      " 8   Quantity          30 non-null     int64         \n",
      " 9   Discount          30 non-null     float64       \n",
      " 10  Profit            30 non-null     float64       \n",
      " 11  Shipping Cost     30 non-null     float64       \n",
      " 12  Order Priority    30 non-null     object        \n",
      " 13  Zip Code          30 non-null     int64         \n",
      "dtypes: datetime64[ns](2), float64(3), int64(4), object(5)\n",
      "memory usage: 3.4+ KB\n"
     ]
    },
    {
     "data": {
      "text/html": [
       "<div>\n",
       "<style scoped>\n",
       "    .dataframe tbody tr th:only-of-type {\n",
       "        vertical-align: middle;\n",
       "    }\n",
       "\n",
       "    .dataframe tbody tr th {\n",
       "        vertical-align: top;\n",
       "    }\n",
       "\n",
       "    .dataframe thead th {\n",
       "        text-align: right;\n",
       "    }\n",
       "</style>\n",
       "<table border=\"1\" class=\"dataframe\">\n",
       "  <thead>\n",
       "    <tr style=\"text-align: right;\">\n",
       "      <th></th>\n",
       "      <th>Order ID</th>\n",
       "      <th>Order Date</th>\n",
       "      <th>Shipping Date</th>\n",
       "      <th>Aging</th>\n",
       "      <th>Ship Mode</th>\n",
       "      <th>Product Category</th>\n",
       "      <th>Product</th>\n",
       "      <th>Sales</th>\n",
       "      <th>Quantity</th>\n",
       "      <th>Discount</th>\n",
       "      <th>Profit</th>\n",
       "      <th>Shipping Cost</th>\n",
       "      <th>Order Priority</th>\n",
       "      <th>Zip Code</th>\n",
       "    </tr>\n",
       "  </thead>\n",
       "  <tbody>\n",
       "    <tr>\n",
       "      <th>0</th>\n",
       "      <td>El-2015-1</td>\n",
       "      <td>2015-02-25</td>\n",
       "      <td>2015-02-26</td>\n",
       "      <td>4</td>\n",
       "      <td>Flight</td>\n",
       "      <td>Electronic</td>\n",
       "      <td>Samsung Mobile</td>\n",
       "      <td>220</td>\n",
       "      <td>2</td>\n",
       "      <td>0.01</td>\n",
       "      <td>135.60</td>\n",
       "      <td>13.560</td>\n",
       "      <td>Critical</td>\n",
       "      <td>16515</td>\n",
       "    </tr>\n",
       "    <tr>\n",
       "      <th>1</th>\n",
       "      <td>El-2015-2</td>\n",
       "      <td>2015-06-22</td>\n",
       "      <td>2015-06-27</td>\n",
       "      <td>5</td>\n",
       "      <td>Flight</td>\n",
       "      <td>Electronic</td>\n",
       "      <td>Watch</td>\n",
       "      <td>104</td>\n",
       "      <td>1</td>\n",
       "      <td>0.03</td>\n",
       "      <td>20.88</td>\n",
       "      <td>2.088</td>\n",
       "      <td>Critical</td>\n",
       "      <td>14030</td>\n",
       "    </tr>\n",
       "    <tr>\n",
       "      <th>2</th>\n",
       "      <td>El-2015-3</td>\n",
       "      <td>2015-10-25</td>\n",
       "      <td>2015-10-30</td>\n",
       "      <td>2</td>\n",
       "      <td>Flight</td>\n",
       "      <td>Electronic</td>\n",
       "      <td>Fans</td>\n",
       "      <td>149</td>\n",
       "      <td>4</td>\n",
       "      <td>0.01</td>\n",
       "      <td>63.04</td>\n",
       "      <td>6.304</td>\n",
       "      <td>Critical</td>\n",
       "      <td>12075</td>\n",
       "    </tr>\n",
       "    <tr>\n",
       "      <th>3</th>\n",
       "      <td>El-2015-4</td>\n",
       "      <td>2015-10-15</td>\n",
       "      <td>2015-10-16</td>\n",
       "      <td>3</td>\n",
       "      <td>Flight</td>\n",
       "      <td>Electronic</td>\n",
       "      <td>Iron</td>\n",
       "      <td>222</td>\n",
       "      <td>4</td>\n",
       "      <td>0.03</td>\n",
       "      <td>115.36</td>\n",
       "      <td>11.536</td>\n",
       "      <td>Critical</td>\n",
       "      <td>11866</td>\n",
       "    </tr>\n",
       "    <tr>\n",
       "      <th>4</th>\n",
       "      <td>El-2015-5</td>\n",
       "      <td>2015-02-02</td>\n",
       "      <td>2015-02-06</td>\n",
       "      <td>5</td>\n",
       "      <td>Flight</td>\n",
       "      <td>Electronic</td>\n",
       "      <td>Tablet</td>\n",
       "      <td>199</td>\n",
       "      <td>3</td>\n",
       "      <td>0.05</td>\n",
       "      <td>89.15</td>\n",
       "      <td>8.915</td>\n",
       "      <td>High</td>\n",
       "      <td>13834</td>\n",
       "    </tr>\n",
       "  </tbody>\n",
       "</table>\n",
       "</div>"
      ],
      "text/plain": [
       "    Order ID Order Date Shipping Date  Aging Ship Mode Product Category  \\\n",
       "0  El-2015-1 2015-02-25    2015-02-26      4    Flight       Electronic   \n",
       "1  El-2015-2 2015-06-22    2015-06-27      5    Flight       Electronic   \n",
       "2  El-2015-3 2015-10-25    2015-10-30      2    Flight       Electronic   \n",
       "3  El-2015-4 2015-10-15    2015-10-16      3    Flight       Electronic   \n",
       "4  El-2015-5 2015-02-02    2015-02-06      5    Flight       Electronic   \n",
       "\n",
       "          Product  Sales  Quantity  Discount  Profit  Shipping Cost  \\\n",
       "0  Samsung Mobile    220         2      0.01  135.60         13.560   \n",
       "1           Watch    104         1      0.03   20.88          2.088   \n",
       "2            Fans    149         4      0.01   63.04          6.304   \n",
       "3            Iron    222         4      0.03  115.36         11.536   \n",
       "4          Tablet    199         3      0.05   89.15          8.915   \n",
       "\n",
       "  Order Priority  Zip Code  \n",
       "0       Critical     16515  \n",
       "1       Critical     14030  \n",
       "2       Critical     12075  \n",
       "3       Critical     11866  \n",
       "4           High     13834  "
      ]
     },
     "execution_count": 4,
     "metadata": {},
     "output_type": "execute_result"
    }
   ],
   "source": [
    "import numpy as np\n",
    "import pandas as pd\n",
    "\n",
    "sales = pd.read_excel(\"Electronic sales.xlsx\")\n",
    "sales.info()\n",
    "sales.head()"
   ]
  },
  {
   "cell_type": "code",
   "execution_count": 8,
   "id": "258a60e6",
   "metadata": {},
   "outputs": [
    {
     "data": {
      "text/plain": [
       "149.0"
      ]
     },
     "execution_count": 8,
     "metadata": {},
     "output_type": "execute_result"
    }
   ],
   "source": [
    "sales.Sales.mean()\n",
    "sales.Sales.median()"
   ]
  },
  {
   "cell_type": "code",
   "execution_count": 10,
   "id": "51fdcd3a",
   "metadata": {},
   "outputs": [
    {
     "data": {
      "text/plain": [
       "Timestamp('2015-12-11 00:00:00')"
      ]
     },
     "execution_count": 10,
     "metadata": {},
     "output_type": "execute_result"
    }
   ],
   "source": [
    "sales[\"Order Date\"].max()"
   ]
  },
  {
   "cell_type": "code",
   "execution_count": 33,
   "id": "fc2126ee",
   "metadata": {},
   "outputs": [],
   "source": [
    "# Efficient summaries : the .agg() function\n",
    "def iqr(column):\n",
    "    return column.quantile(0.75) - column.quantile(0.25)"
   ]
  },
  {
   "cell_type": "code",
   "execution_count": 34,
   "id": "2f44f11f",
   "metadata": {},
   "outputs": [
    {
     "data": {
      "text/plain": [
       "3.2625"
      ]
     },
     "execution_count": 34,
     "metadata": {},
     "output_type": "execute_result"
    }
   ],
   "source": [
    "sales[\"Shipping Cost\"].quantile(0.25)"
   ]
  },
  {
   "cell_type": "code",
   "execution_count": 35,
   "id": "d92296ef",
   "metadata": {},
   "outputs": [
    {
     "data": {
      "text/plain": [
       "13.56"
      ]
     },
     "execution_count": 35,
     "metadata": {},
     "output_type": "execute_result"
    }
   ],
   "source": [
    "sales[\"Shipping Cost\"].agg(max)\n",
    "sales[\"Shipping Cost\"].max()"
   ]
  },
  {
   "cell_type": "code",
   "execution_count": 37,
   "id": "83877ed8",
   "metadata": {},
   "outputs": [
    {
     "name": "stdout",
     "output_type": "stream",
     "text": [
      "7.370500000000001\n"
     ]
    }
   ],
   "source": [
    "# the sales[\"Shipping Cost\"] column is passed to iqr function as argument\n",
    "print(sales[\"Shipping Cost\"].agg(iqr))"
   ]
  },
  {
   "cell_type": "code",
   "execution_count": null,
   "id": "8188d778",
   "metadata": {},
   "outputs": [],
   "source": []
  }
 ],
 "metadata": {
  "kernelspec": {
   "display_name": "Python 3 (ipykernel)",
   "language": "python",
   "name": "python3"
  },
  "language_info": {
   "codemirror_mode": {
    "name": "ipython",
    "version": 3
   },
   "file_extension": ".py",
   "mimetype": "text/x-python",
   "name": "python",
   "nbconvert_exporter": "python",
   "pygments_lexer": "ipython3",
   "version": "3.9.12"
  }
 },
 "nbformat": 4,
 "nbformat_minor": 5
}
